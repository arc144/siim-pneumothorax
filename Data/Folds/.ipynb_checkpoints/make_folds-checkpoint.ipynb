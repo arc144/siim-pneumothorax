{
 "cells": [
  {
   "cell_type": "code",
   "execution_count": 13,
   "metadata": {},
   "outputs": [],
   "source": [
    "import pandas as pd\n",
    "import numpy as np\n",
    "import seaborn as sns\n",
    "import matplotlib.pyplot as plt\n",
    "import matplotlib as cm\n",
    "import os\n",
    "import glob\n",
    "from tqdm import tqdm_notebook as tqdm\n",
    "import pydicom\n",
    "from sklearn.model_selection import KFold"
   ]
  },
  {
   "cell_type": "code",
   "execution_count": 2,
   "metadata": {},
   "outputs": [],
   "source": [
    "np.random.seed(10)"
   ]
  },
  {
   "cell_type": "markdown",
   "metadata": {},
   "source": [
    "## Train set"
   ]
  },
  {
   "cell_type": "code",
   "execution_count": 3,
   "metadata": {},
   "outputs": [],
   "source": [
    "TRAIN_ROOT = '/media/nvme/Datasets/Pneumothorax/dicom-images-train/'\n",
    "CSV = '/media/hdd/Kaggle/Pneumothorax/Data/trainset.csv'"
   ]
  },
  {
   "cell_type": "code",
   "execution_count": 4,
   "metadata": {},
   "outputs": [
    {
     "data": {
      "text/html": [
       "<div>\n",
       "<style scoped>\n",
       "    .dataframe tbody tr th:only-of-type {\n",
       "        vertical-align: middle;\n",
       "    }\n",
       "\n",
       "    .dataframe tbody tr th {\n",
       "        vertical-align: top;\n",
       "    }\n",
       "\n",
       "    .dataframe thead th {\n",
       "        text-align: right;\n",
       "    }\n",
       "</style>\n",
       "<table border=\"1\" class=\"dataframe\">\n",
       "  <thead>\n",
       "    <tr style=\"text-align: right;\">\n",
       "      <th></th>\n",
       "      <th>ImageId</th>\n",
       "      <th>EncodedPixels</th>\n",
       "      <th>Path</th>\n",
       "    </tr>\n",
       "  </thead>\n",
       "  <tbody>\n",
       "    <tr>\n",
       "      <th>11577</th>\n",
       "      <td>1.2.276.0.7230010.3.1.4.8323329.5792.151787519...</td>\n",
       "      <td>-1</td>\n",
       "      <td>/media/nvme/Datasets/Pneumothorax/dicom-images...</td>\n",
       "    </tr>\n",
       "    <tr>\n",
       "      <th>11578</th>\n",
       "      <td>1.2.276.0.7230010.3.1.4.8323329.5793.151787519...</td>\n",
       "      <td>-1</td>\n",
       "      <td>/media/nvme/Datasets/Pneumothorax/dicom-images...</td>\n",
       "    </tr>\n",
       "    <tr>\n",
       "      <th>11579</th>\n",
       "      <td>1.2.276.0.7230010.3.1.4.8323329.5794.151787519...</td>\n",
       "      <td>-1</td>\n",
       "      <td>/media/nvme/Datasets/Pneumothorax/dicom-images...</td>\n",
       "    </tr>\n",
       "    <tr>\n",
       "      <th>11580</th>\n",
       "      <td>1.2.276.0.7230010.3.1.4.8323329.5795.151787519...</td>\n",
       "      <td>174459 17 982 47 952 76 943 79 936 83 937 83 9...</td>\n",
       "      <td>/media/nvme/Datasets/Pneumothorax/dicom-images...</td>\n",
       "    </tr>\n",
       "    <tr>\n",
       "      <th>11581</th>\n",
       "      <td>1.2.276.0.7230010.3.1.4.8323329.5796.151787519...</td>\n",
       "      <td>-1</td>\n",
       "      <td>/media/nvme/Datasets/Pneumothorax/dicom-images...</td>\n",
       "    </tr>\n",
       "  </tbody>\n",
       "</table>\n",
       "</div>"
      ],
      "text/plain": [
       "                                                 ImageId  \\\n",
       "11577  1.2.276.0.7230010.3.1.4.8323329.5792.151787519...   \n",
       "11578  1.2.276.0.7230010.3.1.4.8323329.5793.151787519...   \n",
       "11579  1.2.276.0.7230010.3.1.4.8323329.5794.151787519...   \n",
       "11580  1.2.276.0.7230010.3.1.4.8323329.5795.151787519...   \n",
       "11581  1.2.276.0.7230010.3.1.4.8323329.5796.151787519...   \n",
       "\n",
       "                                           EncodedPixels  \\\n",
       "11577                                                 -1   \n",
       "11578                                                 -1   \n",
       "11579                                                 -1   \n",
       "11580  174459 17 982 47 952 76 943 79 936 83 937 83 9...   \n",
       "11581                                                 -1   \n",
       "\n",
       "                                                    Path  \n",
       "11577  /media/nvme/Datasets/Pneumothorax/dicom-images...  \n",
       "11578  /media/nvme/Datasets/Pneumothorax/dicom-images...  \n",
       "11579  /media/nvme/Datasets/Pneumothorax/dicom-images...  \n",
       "11580  /media/nvme/Datasets/Pneumothorax/dicom-images...  \n",
       "11581  /media/nvme/Datasets/Pneumothorax/dicom-images...  "
      ]
     },
     "execution_count": 4,
     "metadata": {},
     "output_type": "execute_result"
    }
   ],
   "source": [
    "train_df = pd.read_csv(CSV)\n",
    "train_df.tail()"
   ]
  },
  {
   "cell_type": "code",
   "execution_count": 5,
   "metadata": {},
   "outputs": [],
   "source": [
    "HOLDOUT = 0.1"
   ]
  },
  {
   "cell_type": "code",
   "execution_count": 6,
   "metadata": {},
   "outputs": [
    {
     "name": "stdout",
     "output_type": "stream",
     "text": [
      "10675\n"
     ]
    }
   ],
   "source": [
    "ids = np.unique(train_df.ImageId.values)\n",
    "holdout_num = int(HOLDOUT * len(ids))\n",
    "print(len(ids))"
   ]
  },
  {
   "cell_type": "code",
   "execution_count": 7,
   "metadata": {},
   "outputs": [
    {
     "name": "stdout",
     "output_type": "stream",
     "text": [
      "1067 9608\n"
     ]
    }
   ],
   "source": [
    "ix = np.arange(len(ids))\n",
    "np.random.shuffle(ix)\n",
    "holdout_ids = ids[ix[:holdout_num]]\n",
    "train_ids = ids[ix[holdout_num:]]\n",
    "print(len(holdout_ids), len(train_ids))"
   ]
  },
  {
   "cell_type": "code",
   "execution_count": 8,
   "metadata": {},
   "outputs": [
    {
     "data": {
      "text/plain": [
       "10675"
      ]
     },
     "execution_count": 8,
     "metadata": {},
     "output_type": "execute_result"
    }
   ],
   "source": [
    "1067 + 9608"
   ]
  },
  {
   "cell_type": "code",
   "execution_count": 9,
   "metadata": {},
   "outputs": [
    {
     "name": "stdout",
     "output_type": "stream",
     "text": [
      "1141\n"
     ]
    },
    {
     "data": {
      "text/html": [
       "<div>\n",
       "<style scoped>\n",
       "    .dataframe tbody tr th:only-of-type {\n",
       "        vertical-align: middle;\n",
       "    }\n",
       "\n",
       "    .dataframe tbody tr th {\n",
       "        vertical-align: top;\n",
       "    }\n",
       "\n",
       "    .dataframe thead th {\n",
       "        text-align: right;\n",
       "    }\n",
       "</style>\n",
       "<table border=\"1\" class=\"dataframe\">\n",
       "  <thead>\n",
       "    <tr style=\"text-align: right;\">\n",
       "      <th></th>\n",
       "      <th>EncodedPixels</th>\n",
       "      <th>Path</th>\n",
       "    </tr>\n",
       "    <tr>\n",
       "      <th>ImageId</th>\n",
       "      <th></th>\n",
       "      <th></th>\n",
       "    </tr>\n",
       "  </thead>\n",
       "  <tbody>\n",
       "    <tr>\n",
       "      <th>1.2.276.0.7230010.3.1.4.8323329.32208.1517875159.18115</th>\n",
       "      <td>-1</td>\n",
       "      <td>/media/nvme/Datasets/Pneumothorax/dicom-images...</td>\n",
       "    </tr>\n",
       "    <tr>\n",
       "      <th>1.2.276.0.7230010.3.1.4.8323329.10459.1517875223.809547</th>\n",
       "      <td>-1</td>\n",
       "      <td>/media/nvme/Datasets/Pneumothorax/dicom-images...</td>\n",
       "    </tr>\n",
       "    <tr>\n",
       "      <th>1.2.276.0.7230010.3.1.4.8323329.1892.1517875170.126873</th>\n",
       "      <td>158071 2 1014 9 1006 16 1000 23 992 31 985 37 ...</td>\n",
       "      <td>/media/nvme/Datasets/Pneumothorax/dicom-images...</td>\n",
       "    </tr>\n",
       "    <tr>\n",
       "      <th>1.2.276.0.7230010.3.1.4.8323329.32434.1517875160.578580</th>\n",
       "      <td>-1</td>\n",
       "      <td>/media/nvme/Datasets/Pneumothorax/dicom-images...</td>\n",
       "    </tr>\n",
       "    <tr>\n",
       "      <th>1.2.276.0.7230010.3.1.4.8323329.1157.1517875166.516622</th>\n",
       "      <td>-1</td>\n",
       "      <td>/media/nvme/Datasets/Pneumothorax/dicom-images...</td>\n",
       "    </tr>\n",
       "  </tbody>\n",
       "</table>\n",
       "</div>"
      ],
      "text/plain": [
       "                                                                                        EncodedPixels  \\\n",
       "ImageId                                                                                                 \n",
       "1.2.276.0.7230010.3.1.4.8323329.32208.151787515...                                                 -1   \n",
       "1.2.276.0.7230010.3.1.4.8323329.10459.151787522...                                                 -1   \n",
       "1.2.276.0.7230010.3.1.4.8323329.1892.1517875170...  158071 2 1014 9 1006 16 1000 23 992 31 985 37 ...   \n",
       "1.2.276.0.7230010.3.1.4.8323329.32434.151787516...                                                 -1   \n",
       "1.2.276.0.7230010.3.1.4.8323329.1157.1517875166...                                                 -1   \n",
       "\n",
       "                                                                                                 Path  \n",
       "ImageId                                                                                                \n",
       "1.2.276.0.7230010.3.1.4.8323329.32208.151787515...  /media/nvme/Datasets/Pneumothorax/dicom-images...  \n",
       "1.2.276.0.7230010.3.1.4.8323329.10459.151787522...  /media/nvme/Datasets/Pneumothorax/dicom-images...  \n",
       "1.2.276.0.7230010.3.1.4.8323329.1892.1517875170...  /media/nvme/Datasets/Pneumothorax/dicom-images...  \n",
       "1.2.276.0.7230010.3.1.4.8323329.32434.151787516...  /media/nvme/Datasets/Pneumothorax/dicom-images...  \n",
       "1.2.276.0.7230010.3.1.4.8323329.1157.1517875166...  /media/nvme/Datasets/Pneumothorax/dicom-images...  "
      ]
     },
     "execution_count": 9,
     "metadata": {},
     "output_type": "execute_result"
    }
   ],
   "source": [
    "holdout_df = train_df.set_index('ImageId').loc[holdout_ids]\n",
    "print(len(holdout_df))\n",
    "holdout_df.tail()"
   ]
  },
  {
   "cell_type": "code",
   "execution_count": 10,
   "metadata": {},
   "outputs": [
    {
     "name": "stdout",
     "output_type": "stream",
     "text": [
      "10441\n"
     ]
    },
    {
     "data": {
      "text/html": [
       "<div>\n",
       "<style scoped>\n",
       "    .dataframe tbody tr th:only-of-type {\n",
       "        vertical-align: middle;\n",
       "    }\n",
       "\n",
       "    .dataframe tbody tr th {\n",
       "        vertical-align: top;\n",
       "    }\n",
       "\n",
       "    .dataframe thead th {\n",
       "        text-align: right;\n",
       "    }\n",
       "</style>\n",
       "<table border=\"1\" class=\"dataframe\">\n",
       "  <thead>\n",
       "    <tr style=\"text-align: right;\">\n",
       "      <th></th>\n",
       "      <th>EncodedPixels</th>\n",
       "      <th>Path</th>\n",
       "    </tr>\n",
       "    <tr>\n",
       "      <th>ImageId</th>\n",
       "      <th></th>\n",
       "      <th></th>\n",
       "    </tr>\n",
       "  </thead>\n",
       "  <tbody>\n",
       "    <tr>\n",
       "      <th>1.2.276.0.7230010.3.1.4.8323329.4601.1517875183.675592</th>\n",
       "      <td>-1</td>\n",
       "      <td>/media/nvme/Datasets/Pneumothorax/dicom-images...</td>\n",
       "    </tr>\n",
       "    <tr>\n",
       "      <th>1.2.276.0.7230010.3.1.4.8323329.32184.1517875158.914008</th>\n",
       "      <td>371939 1 1019 4 1019 5 1017 6 1017 6 1016 7 10...</td>\n",
       "      <td>/media/nvme/Datasets/Pneumothorax/dicom-images...</td>\n",
       "    </tr>\n",
       "    <tr>\n",
       "      <th>1.2.276.0.7230010.3.1.4.8323329.11237.1517875231.898693</th>\n",
       "      <td>-1</td>\n",
       "      <td>/media/nvme/Datasets/Pneumothorax/dicom-images...</td>\n",
       "    </tr>\n",
       "    <tr>\n",
       "      <th>1.2.276.0.7230010.3.1.4.8323329.32186.1517875158.929340</th>\n",
       "      <td>-1</td>\n",
       "      <td>/media/nvme/Datasets/Pneumothorax/dicom-images...</td>\n",
       "    </tr>\n",
       "    <tr>\n",
       "      <th>1.2.276.0.7230010.3.1.4.8323329.11184.1517875231.611395</th>\n",
       "      <td>-1</td>\n",
       "      <td>/media/nvme/Datasets/Pneumothorax/dicom-images...</td>\n",
       "    </tr>\n",
       "  </tbody>\n",
       "</table>\n",
       "</div>"
      ],
      "text/plain": [
       "                                                                                        EncodedPixels  \\\n",
       "ImageId                                                                                                 \n",
       "1.2.276.0.7230010.3.1.4.8323329.4601.1517875183...                                                 -1   \n",
       "1.2.276.0.7230010.3.1.4.8323329.32184.151787515...  371939 1 1019 4 1019 5 1017 6 1017 6 1016 7 10...   \n",
       "1.2.276.0.7230010.3.1.4.8323329.11237.151787523...                                                 -1   \n",
       "1.2.276.0.7230010.3.1.4.8323329.32186.151787515...                                                 -1   \n",
       "1.2.276.0.7230010.3.1.4.8323329.11184.151787523...                                                 -1   \n",
       "\n",
       "                                                                                                 Path  \n",
       "ImageId                                                                                                \n",
       "1.2.276.0.7230010.3.1.4.8323329.4601.1517875183...  /media/nvme/Datasets/Pneumothorax/dicom-images...  \n",
       "1.2.276.0.7230010.3.1.4.8323329.32184.151787515...  /media/nvme/Datasets/Pneumothorax/dicom-images...  \n",
       "1.2.276.0.7230010.3.1.4.8323329.11237.151787523...  /media/nvme/Datasets/Pneumothorax/dicom-images...  \n",
       "1.2.276.0.7230010.3.1.4.8323329.32186.151787515...  /media/nvme/Datasets/Pneumothorax/dicom-images...  \n",
       "1.2.276.0.7230010.3.1.4.8323329.11184.151787523...  /media/nvme/Datasets/Pneumothorax/dicom-images...  "
      ]
     },
     "execution_count": 10,
     "metadata": {},
     "output_type": "execute_result"
    }
   ],
   "source": [
    "new_train_df = train_df.set_index('ImageId').loc[train_ids]\n",
    "print(len(new_train_df))\n",
    "new_train_df.tail()"
   ]
  },
  {
   "cell_type": "code",
   "execution_count": 11,
   "metadata": {},
   "outputs": [
    {
     "data": {
      "text/plain": [
       "11582"
      ]
     },
     "execution_count": 11,
     "metadata": {},
     "output_type": "execute_result"
    }
   ],
   "source": [
    "10417 + 1165"
   ]
  },
  {
   "cell_type": "code",
   "execution_count": 12,
   "metadata": {},
   "outputs": [],
   "source": [
    "HOLDOUT_SAVE = '/media/hdd/Kaggle/Pneumothorax/Data/Folds/holdout.csv'\n",
    "holdout_df.to_csv(HOLDOUT_SAVE, index=True)"
   ]
  },
  {
   "cell_type": "markdown",
   "metadata": {},
   "source": [
    "## Create folds"
   ]
  },
  {
   "cell_type": "code",
   "execution_count": 18,
   "metadata": {},
   "outputs": [
    {
     "name": "stdout",
     "output_type": "stream",
     "text": [
      "9608\n",
      "Fold 0:\n",
      "train size: 8647 val size: 961\n",
      "train df size: 9397 val df size 1044\n",
      "fold df size: 10441\n",
      "Fold 1:\n",
      "train size: 8647 val size: 961\n",
      "train df size: 9411 val df size 1030\n",
      "fold df size: 10441\n",
      "Fold 2:\n",
      "train size: 8647 val size: 961\n",
      "train df size: 9407 val df size 1034\n",
      "fold df size: 10441\n",
      "Fold 3:\n",
      "train size: 8647 val size: 961\n",
      "train df size: 9405 val df size 1036\n",
      "fold df size: 10441\n",
      "Fold 4:\n",
      "train size: 8647 val size: 961\n",
      "train df size: 9389 val df size 1052\n",
      "fold df size: 10441\n",
      "Fold 5:\n",
      "train size: 8647 val size: 961\n",
      "train df size: 9395 val df size 1046\n",
      "fold df size: 10441\n",
      "Fold 6:\n",
      "train size: 8647 val size: 961\n",
      "train df size: 9403 val df size 1038\n",
      "fold df size: 10441\n",
      "Fold 7:\n",
      "train size: 8647 val size: 961\n",
      "train df size: 9408 val df size 1033\n",
      "fold df size: 10441\n",
      "Fold 8:\n",
      "train size: 8648 val size: 960\n",
      "train df size: 9375 val df size 1066\n",
      "fold df size: 10441\n",
      "Fold 9:\n",
      "train size: 8648 val size: 960\n",
      "train df size: 9379 val df size 1062\n",
      "fold df size: 10441\n"
     ]
    }
   ],
   "source": [
    "TRAINFOLDER_SAVE = '/media/hdd/Kaggle/Pneumothorax/Data/Folds/'\n",
    "ids = np.unique(new_train_df.index.values)\n",
    "print(len(ids))\n",
    "kf = KFold(n_splits=10)\n",
    "folds = []\n",
    "for i, (train_index, val_index) in enumerate(kf.split(ids)):\n",
    "    train_ids_i = ids[train_index]\n",
    "    val_ids_i = ids[val_index]\n",
    "    train_df_i = new_train_df.loc[train_ids_i]\n",
    "    val_df_i = new_train_df.loc[val_ids_i]\n",
    "    \n",
    "    train_df_i['Set'] = 'train'\n",
    "    val_df_i['Set'] = 'val'\n",
    "    fold_df_i = pd.concat([train_df_i, val_df_i], axis=0)\n",
    "    print('Fold {}:'.format(i))\n",
    "    print('train size: {} val size: {}'.format(len(train_ids_i), len(val_ids_i)))\n",
    "    print('train df size: {} val df size {}'.format(len(train_df_i), len(val_df_i)))\n",
    "    print('fold df size: {}'.format(len(fold_df_i)))\n",
    "    \n",
    "    fold_df_i.to_csv(os.path.join(TRAINFOLDER_SAVE, 'fold{}.csv'.format(i)), index=True)"
   ]
  },
  {
   "cell_type": "code",
   "execution_count": null,
   "metadata": {},
   "outputs": [],
   "source": []
  },
  {
   "cell_type": "code",
   "execution_count": null,
   "metadata": {},
   "outputs": [],
   "source": []
  },
  {
   "cell_type": "code",
   "execution_count": null,
   "metadata": {},
   "outputs": [],
   "source": []
  }
 ],
 "metadata": {
  "kernelspec": {
   "display_name": "Python 3",
   "language": "python",
   "name": "python3"
  },
  "language_info": {
   "codemirror_mode": {
    "name": "ipython",
    "version": 3
   },
   "file_extension": ".py",
   "mimetype": "text/x-python",
   "name": "python",
   "nbconvert_exporter": "python",
   "pygments_lexer": "ipython3",
   "version": "3.7.3"
  }
 },
 "nbformat": 4,
 "nbformat_minor": 2
}
