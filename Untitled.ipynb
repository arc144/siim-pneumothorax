{
 "cells": [
  {
   "cell_type": "code",
   "execution_count": 1,
   "metadata": {},
   "outputs": [],
   "source": [
    "import pandas as pd\n",
    "import numpy as np"
   ]
  },
  {
   "cell_type": "code",
   "execution_count": 5,
   "metadata": {},
   "outputs": [
    {
     "data": {
      "text/plain": [
       "(1161, 2)"
      ]
     },
     "execution_count": 5,
     "metadata": {},
     "output_type": "execute_result"
    }
   ],
   "source": [
    "df2500 = pd.read_csv('/media/hdd/Kaggle/Pneumothorax/Output/cls/ens_cls2500.csv')\n",
    "df2500.tail()\n",
    "df2500[df2500['EncodedPixels'].values == '-1'].shape"
   ]
  },
  {
   "cell_type": "code",
   "execution_count": 6,
   "metadata": {},
   "outputs": [
    {
     "data": {
      "text/plain": [
       "(1161, 2)"
      ]
     },
     "execution_count": 6,
     "metadata": {},
     "output_type": "execute_result"
    }
   ],
   "source": [
    "dfbest = pd.read_csv('/media/hdd/Kaggle/Pneumothorax/Output/best_sub.csv')\n",
    "dfbest.tail()\n",
    "dfbest[dfbest['EncodedPixels'].values == '-1'].shape"
   ]
  },
  {
   "cell_type": "code",
   "execution_count": 18,
   "metadata": {},
   "outputs": [],
   "source": [
    "ix2500 = set(df2500[df2500['EncodedPixels'].values == '-1']['ImageId'].values)\n",
    "ixbest = set(dfbest[dfbest['EncodedPixels'].values == '-1']['ImageId'].values)"
   ]
  },
  {
   "cell_type": "code",
   "execution_count": 17,
   "metadata": {},
   "outputs": [
    {
     "data": {
      "text/plain": [
       "0.9974160206718347"
      ]
     },
     "execution_count": 17,
     "metadata": {},
     "output_type": "execute_result"
    }
   ],
   "source": [
    "(df2500.set_index('ImageId').loc[ix2500, \"EncodedPixels\"].values == dfbest.set_index('ImageId').loc[ix2500, \"EncodedPixels\"].values).mean()"
   ]
  },
  {
   "cell_type": "code",
   "execution_count": 19,
   "metadata": {},
   "outputs": [
    {
     "data": {
      "text/plain": [
       "1161"
      ]
     },
     "execution_count": 19,
     "metadata": {},
     "output_type": "execute_result"
    }
   ],
   "source": [
    "len(ix2500)"
   ]
  },
  {
   "cell_type": "code",
   "execution_count": 20,
   "metadata": {},
   "outputs": [
    {
     "data": {
      "text/plain": [
       "1161"
      ]
     },
     "execution_count": 20,
     "metadata": {},
     "output_type": "execute_result"
    }
   ],
   "source": [
    "len(ixbest)"
   ]
  },
  {
   "cell_type": "code",
   "execution_count": 22,
   "metadata": {},
   "outputs": [
    {
     "data": {
      "text/plain": [
       "{'1.2.276.0.7230010.3.1.4.8323329.6308.1517875197.534859',\n",
       " '1.2.276.0.7230010.3.1.4.8323329.666.1517875163.960792',\n",
       " '1.2.276.0.7230010.3.1.4.8323329.6977.1517875202.193349'}"
      ]
     },
     "execution_count": 22,
     "metadata": {},
     "output_type": "execute_result"
    }
   ],
   "source": [
    "ix2500 - ixbest"
   ]
  },
  {
   "cell_type": "code",
   "execution_count": null,
   "metadata": {},
   "outputs": [],
   "source": []
  },
  {
   "cell_type": "code",
   "execution_count": null,
   "metadata": {},
   "outputs": [],
   "source": []
  },
  {
   "cell_type": "code",
   "execution_count": 2,
   "metadata": {},
   "outputs": [
    {
     "data": {
      "text/plain": [
       "(1161, 2)"
      ]
     },
     "execution_count": 2,
     "metadata": {},
     "output_type": "execute_result"
    }
   ],
   "source": [
    "seg_new = pd.read_csv('/media/hdd/Kaggle/Pneumothorax/Output/ens_seg_composed.csv')\n",
    "seg_new[seg_new['EncodedPixels'].values == '-1'].shape"
   ]
  },
  {
   "cell_type": "code",
   "execution_count": 3,
   "metadata": {},
   "outputs": [
    {
     "data": {
      "text/plain": [
       "(1161, 2)"
      ]
     },
     "execution_count": 3,
     "metadata": {},
     "output_type": "execute_result"
    }
   ],
   "source": [
    "seg_old = pd.read_csv('/media/hdd/Downloads/sub_ens_composed(2).csv')\n",
    "seg_old[seg_old['EncodedPixels'].values == '-1'].shape"
   ]
  },
  {
   "cell_type": "code",
   "execution_count": 6,
   "metadata": {
    "scrolled": true
   },
   "outputs": [],
   "source": [
    "new_mask = seg_new.set_index('ImageId').loc[seg_new['ImageId'].values, 'EncodedPixels'].values"
   ]
  },
  {
   "cell_type": "code",
   "execution_count": 7,
   "metadata": {},
   "outputs": [],
   "source": [
    "old_mask = seg_old.set_index('ImageId').loc[seg_new['ImageId'].values, 'EncodedPixels'].values"
   ]
  },
  {
   "cell_type": "code",
   "execution_count": 8,
   "metadata": {},
   "outputs": [
    {
     "data": {
      "text/plain": [
       "0.8431372549019608"
      ]
     },
     "execution_count": 8,
     "metadata": {},
     "output_type": "execute_result"
    }
   ],
   "source": [
    "(new_mask == old_mask).mean()"
   ]
  },
  {
   "cell_type": "code",
   "execution_count": 9,
   "metadata": {},
   "outputs": [
    {
     "data": {
      "text/plain": [
       "'663786 18 1002 24 995 30 990 35 987 37 984 41 981 43 980 45 977 48 975 50 972 53 970 55 967 59 964 62 960 65 958 68 954 72 951 75 948 77 946 79 943 82 941 85 937 88 935 90 933 93 929 96 927 98 925 100 922 102 921 103 921 103 920 104 919 105 918 106 918 105 918 105 919 105 919 104 919 105 919 104 919 105 919 104 919 104 920 104 919 104 920 104 920 103 920 104 920 103 921 102 922 102 921 102 922 101 923 101 923 100 924 99 925 99 925 98 925 98 926 97 927 97 927 96 929 94 930 94 930 93 931 92 932 92 932 91 933 91 933 90 934 90 934 89 935 89 935 88 936 88 936 87 938 86 938 86 938 85 939 85 939 85 939 84 940 84 940 84 941 82 942 82 942 82 942 82 942 81 943 81 944 80 944 80 944 80 944 79 946 78 946 78 946 78 947 77 947 77 948 76 948 76 949 75 949 75 950 74 950 73 951 73 952 72 952 72 953 71 953 71 954 70 955 69 955 69 956 68 956 68 957 67 957 67 958 66 958 67 958 66 959 65 959 65 960 64 960 64 961 64 510 4 446 64 509 6 446 63 509 7 445 63 508 8 446 62 507 10 446 62 505 11 446 62 504 12 447 61 503 13 448 60 502 14 449 60 501 14 450 59 500 15 451 58 500 14 452 58 499 15 453 58 498 15 454 57 497 16 454 57 497 16 455 56 497 16 456 56 495 17 457 55 495 16 458 55 495 16 459 54 495 16 460 53 495 16 461 53 493 17 462 52 493 17 463 51 493 16 465 50 492 17 465 50 492 17 466 50 490 18 467 49 490 18 467 49 490 18 468 48 489 19 469 48 488 19 470 47 487 20 470 47 486 21 471 46 486 21 472 45 485 22 473 45 484 22 474 44 483 23 475 43 483 23 476 43 481 24 478 41 481 24 479 40 480 25 480 39 480 25 481 39 479 25 482 38 478 25 484 37 478 25 485 37 476 26 486 36 476 26 487 35 475 27 488 35 474 27 489 34 473 28 490 33 473 28 490 34 472 28 491 33 471 29 492 32 471 29 493 32 470 29 494 31 469 30 496 30 468 30 497 29 468 30 498 28 468 30 500 26 467 31 502 25 466 31 503 24 466 32 504 22 465 33 505 22 464 33 506 21 464 33 508 19 464 33 509 18 463 34 510 18 462 34 511 17 462 34 512 16 462 34 512 16 461 35 513 15 461 35 515 13 461 35 516 12 461 35 518 10 461 35 520 7 461 36 522 4 462 37 987 37 987 37 987 37 987 37 987 37 987 37 987 38 987 37 987 37 987 37 987 37 988 37 987 37 987 37 987 37 988 37 987 37 987 37 988 36 988 37 988 36 988 36 988 36 989 36 988 36 989 35 989 35 989 36 989 35 989 35 989 36 989 35 989 35 989 36 989 35 989 35 990 35 989 35 990 34 990 35 989 35 990 35 989 35 990 34 990 35 990 34 990 35 990 34 990 35 989 35 990 35 989 36 989 35 989 36 988 36 989 36 988 37 988 36 988 37 988 37 988 36 988 37 988 37 988 37 987 38 987 37 988 37 987 38 987 38 987 38 986 39 986 39 986 38 987 38 987 38 987 37 988 37 988 37 989 35 990 35 990 35 990 34 992 33 992 32 993 32 993 32 993 31 995 30 996 27 999 25 1001 22 1005 17 1011 11'"
      ]
     },
     "execution_count": 9,
     "metadata": {},
     "output_type": "execute_result"
    }
   ],
   "source": [
    "new_mask[0]"
   ]
  },
  {
   "cell_type": "code",
   "execution_count": 10,
   "metadata": {},
   "outputs": [
    {
     "data": {
      "text/plain": [
       "'663786 18 1002 24 995 30 990 34 988 37 984 41 981 43 980 45 977 48 975 50 972 53 970 55 967 59 964 62 960 65 958 68 954 72 951 75 948 77 946 79 943 82 941 85 937 88 935 91 931 94 929 96 927 98 925 100 922 102 921 103 920 104 920 104 919 105 918 106 918 105 918 106 918 105 918 105 919 105 919 104 919 105 919 104 919 105 919 104 919 104 920 104 920 103 920 104 920 103 921 102 922 102 921 102 922 102 922 101 923 100 924 100 924 99 925 98 926 97 926 98 926 97 927 96 929 94 930 94 930 93 931 92 932 92 932 91 933 91 933 90 934 90 934 89 935 89 935 88 936 88 936 87 938 86 938 86 938 85 939 85 939 85 939 84 940 84 940 84 941 82 942 82 942 82 942 82 942 81 943 81 944 80 944 80 944 80 944 79 946 78 946 78 946 78 947 77 947 77 948 76 948 76 949 75 949 75 950 74 950 74 950 74 951 73 951 73 952 71 953 71 954 70 955 69 955 69 956 68 956 68 957 68 956 68 957 67 957 67 958 66 959 65 959 65 960 64 960 64 961 64 510 4 446 64 510 5 446 63 509 7 445 63 508 8 446 62 507 10 446 62 505 11 446 62 504 12 447 61 503 13 448 60 502 14 449 60 501 14 450 59 500 15 450 59 500 14 452 58 499 15 453 58 498 15 453 58 497 16 454 57 497 16 455 56 497 16 456 56 496 16 456 56 495 16 458 55 495 16 459 54 495 16 460 53 495 16 461 53 493 17 462 52 493 17 463 51 493 16 464 51 492 17 465 50 492 17 466 50 490 18 467 49 490 18 467 49 490 18 468 48 489 19 469 48 488 19 469 48 487 20 470 47 487 20 471 46 486 21 472 45 485 22 473 45 484 22 474 44 483 23 475 43 483 23 476 43 481 24 477 42 481 24 479 40 480 25 480 39 480 25 481 39 479 24 483 38 478 25 484 37 478 25 485 37 476 26 486 36 476 26 487 35 475 27 488 35 474 27 489 34 473 28 490 33 473 28 490 34 472 28 491 33 471 29 492 32 471 29 493 32 470 29 494 31 469 30 496 30 468 30 497 29 468 30 498 28 468 30 500 26 467 31 501 26 466 31 503 24 466 32 504 22 465 33 505 22 464 33 506 21 464 33 507 20 464 33 509 18 463 34 510 18 462 34 511 17 462 34 511 17 462 34 512 16 461 35 513 15 461 35 515 13 461 35 516 12 461 35 518 10 461 35 520 7 461 36 522 4 462 37 987 37 987 37 987 37 987 37 987 37 987 37 987 38 987 37 987 37 987 37 987 37 988 37 987 37 987 37 988 36 988 37 987 37 987 37 988 36 988 37 988 36 988 36 988 36 989 36 988 36 989 35 989 35 989 36 989 35 989 35 989 36 989 35 989 35 989 36 989 35 989 35 990 35 989 35 990 34 990 35 989 35 990 35 989 35 990 34 990 35 990 34 990 35 990 34 990 35 989 35 990 35 989 35 990 35 989 36 988 36 989 36 988 37 988 36 988 37 988 37 988 36 988 37 988 37 988 37 987 38 987 37 988 37 987 38 987 38 987 38 986 39 986 39 986 38 987 38 987 38 987 37 988 37 988 37 989 35 990 35 990 35 990 34 992 33 992 32 993 32 993 31 994 31 995 29 997 27 999 25 1001 22 1005 17 1011 11'"
      ]
     },
     "execution_count": 10,
     "metadata": {},
     "output_type": "execute_result"
    }
   ],
   "source": [
    "old_mask[0]"
   ]
  }
 ],
 "metadata": {
  "kernelspec": {
   "display_name": "Python 3",
   "language": "python",
   "name": "python3"
  },
  "language_info": {
   "codemirror_mode": {
    "name": "ipython",
    "version": 3
   },
   "file_extension": ".py",
   "mimetype": "text/x-python",
   "name": "python",
   "nbconvert_exporter": "python",
   "pygments_lexer": "ipython3",
   "version": "3.7.3"
  }
 },
 "nbformat": 4,
 "nbformat_minor": 2
}
