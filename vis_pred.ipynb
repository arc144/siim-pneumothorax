{
 "cells": [
  {
   "cell_type": "code",
   "execution_count": 1,
   "metadata": {},
   "outputs": [],
   "source": [
    "%load_ext autoreload\n",
    "%autoreload 2\n",
    "from Config import *\n",
    "from Core.dataset import DatasetFactory\n",
    "from Core.tasks import Segmentation\n",
    "import matplotlib.pyplot as plt\n",
    "import numpy as np\n",
    "from tqdm import tqdm\n",
    "from Core import metrics\n",
    "from skimage.measure import label\n",
    "import gc"
   ]
  },
  {
   "cell_type": "code",
   "execution_count": 2,
   "metadata": {
    "scrolled": false
   },
   "outputs": [
    {
     "name": "stdout",
     "output_type": "stream",
     "text": [
      "Fold 0 selected\n",
      "/media/hdd/Kaggle/Pneumothorax/Data/Folds/fold0.csv\n",
      "Fold 1 selected\n",
      "/media/hdd/Kaggle/Pneumothorax/Data/Folds/fold1.csv\n",
      "Fold 3 selected\n",
      "/media/hdd/Kaggle/Pneumothorax/Data/Folds/fold3.csv\n",
      "Fold 4 selected\n",
      "/media/hdd/Kaggle/Pneumothorax/Data/Folds/fold4.csv\n",
      "Fold 0 selected\n",
      "/media/hdd/Kaggle/Pneumothorax/Data/Folds/fold0.csv\n",
      "Fold 1 selected\n",
      "/media/hdd/Kaggle/Pneumothorax/Data/Folds/fold1.csv\n",
      "Fold 2 selected\n",
      "/media/hdd/Kaggle/Pneumothorax/Data/Folds/fold2.csv\n",
      "Fold 3 selected\n",
      "/media/hdd/Kaggle/Pneumothorax/Data/Folds/fold3.csv\n",
      "Fold 7 selected\n",
      "/media/hdd/Kaggle/Pneumothorax/Data/Folds/fold7.csv\n",
      "Fold 8 selected\n",
      "/media/hdd/Kaggle/Pneumothorax/Data/Folds/fold8.csv\n",
      "Dataset comprised of 1067 images\n",
      "Model checkpoint loaded from: ./Saves/PANetDilatedResNet34/Fold0/18Jul_14:21_v2_768/2019-07-18 17:21_Fold0_Epoch16_reset0_val0.833\n"
     ]
    },
    {
     "name": "stderr",
     "output_type": "stream",
     "text": [
      "  0%|          | 0/35.56666666666667 [00:00<?, ?it/s]/home/eduardo/.conda/envs/deep/lib/python3.7/site-packages/torch/nn/functional.py:2457: UserWarning: nn.functional.upsample is deprecated. Use nn.functional.interpolate instead.\n",
      "  warnings.warn(\"nn.functional.upsample is deprecated. Use nn.functional.interpolate instead.\")\n",
      "36it [01:54,  2.62s/it]                                       \n"
     ]
    },
    {
     "name": "stdout",
     "output_type": "stream",
     "text": [
      "Dataset comprised of 1067 images\n",
      "Model checkpoint loaded from: ./Saves/PANetDilatedResNet34/Fold1/21Jul_22:18/2019-07-22 07:32_Fold1_Epoch49_reset0_val0.847\n"
     ]
    },
    {
     "name": "stderr",
     "output_type": "stream",
     "text": [
      "36it [01:59,  2.80s/it]                                       \n"
     ]
    },
    {
     "name": "stdout",
     "output_type": "stream",
     "text": [
      "Dataset comprised of 1067 images\n",
      "Model checkpoint loaded from: ./Saves/PANetDilatedResNet34/Fold3/31Jul_00:02/2019-07-31 03:11_Fold3_Epoch16_reset0_val0.851\n"
     ]
    },
    {
     "name": "stderr",
     "output_type": "stream",
     "text": [
      "36it [01:45,  2.48s/it]                                       \n"
     ]
    },
    {
     "name": "stdout",
     "output_type": "stream",
     "text": [
      "Dataset comprised of 1067 images\n",
      "Model checkpoint loaded from: ./Saves/PANetDilatedResNet34/Fold4/01Aug_08:49/2019-08-01 11:08_Fold4_Epoch11_reset0_val0.855\n"
     ]
    },
    {
     "name": "stderr",
     "output_type": "stream",
     "text": [
      "36it [01:48,  2.56s/it]                                       \n"
     ]
    },
    {
     "name": "stdout",
     "output_type": "stream",
     "text": [
      "Dataset comprised of 1067 images\n",
      "Model checkpoint loaded from: ./Saves/PANetResNet50/Fold0/29Jul_08:45/2019-07-29 19:12_Fold0_Epoch39_reset0_val0.840\n"
     ]
    },
    {
     "name": "stderr",
     "output_type": "stream",
     "text": [
      "89it [02:01,  1.26s/it]                                       \n"
     ]
    },
    {
     "name": "stdout",
     "output_type": "stream",
     "text": [
      "Dataset comprised of 1067 images\n",
      "Model checkpoint loaded from: ./Saves/PANetResNet50/Fold1/28Jul_23:16/2019-07-29 08:21_Fold1_Epoch34_reset0_val0.842\n"
     ]
    },
    {
     "name": "stderr",
     "output_type": "stream",
     "text": [
      "89it [02:01,  1.28s/it]                                       \n"
     ]
    },
    {
     "name": "stdout",
     "output_type": "stream",
     "text": [
      "Dataset comprised of 1067 images\n",
      "Model checkpoint loaded from: ./Saves/PANetResNet50/Fold2/28Jul_21:21/2019-07-28 22:58_Fold2_Epoch6_reset0_val0.842\n"
     ]
    },
    {
     "name": "stderr",
     "output_type": "stream",
     "text": [
      "89it [01:58,  1.28s/it]                                       \n"
     ]
    },
    {
     "name": "stdout",
     "output_type": "stream",
     "text": [
      "Dataset comprised of 1067 images\n",
      "Model checkpoint loaded from: ./Saves/PANetResNet50/Fold3/28Jul_01:57/2019-07-28 09:59_Fold3_Epoch30_reset0_val0.854\n"
     ]
    },
    {
     "name": "stderr",
     "output_type": "stream",
     "text": [
      "89it [02:02,  1.31s/it]                                       \n"
     ]
    },
    {
     "name": "stdout",
     "output_type": "stream",
     "text": [
      "Dataset comprised of 1067 images\n",
      "Model checkpoint loaded from: ./Saves/EMANetResNet101_v2/Fold7/14Aug_23:07/2019-08-15 13:15_Fold7_Epoch39_reset0_dice0.831_ptx_dice0.402\n"
     ]
    },
    {
     "name": "stderr",
     "output_type": "stream",
     "text": [
      "134it [02:40,  1.04it/s]                             \n"
     ]
    },
    {
     "name": "stdout",
     "output_type": "stream",
     "text": [
      "Dataset comprised of 1067 images\n",
      "Model checkpoint loaded from: ./Saves/EMANetResNet101_v2/Fold8/16Aug_00:00/2019-08-16 10:36_Fold8_Epoch29_reset0_dice0.836_ptx_dice0.479\n"
     ]
    },
    {
     "name": "stderr",
     "output_type": "stream",
     "text": [
      "134it [02:55,  1.06s/it]                             \n"
     ]
    }
   ],
   "source": [
    "holdout = '/media/hdd/Kaggle/Pneumothorax/Data/Folds/holdout.csv'\n",
    "configs = [\n",
    "    # all images\n",
    "    PANetDilatedResNet34_768_Fold0(),\n",
    "    PANetDilatedResNet34_768_Fold1(),\n",
    "    PANetDilatedResNet34_768_Fold3(),\n",
    "    PANetDilatedResNet34_768_Fold4(),\n",
    "    PANetResNet50_768_Fold0(),\n",
    "    PANetResNet50_768_Fold1(),\n",
    "    PANetResNet50_768_Fold2(),\n",
    "    PANetResNet50_768_Fold3(),\n",
    "    EMANetResNet101_768_Fold7(),\n",
    "    EMANetResNet101_768_Fold8(),\n",
    "]\n",
    "\n",
    "for j, cfg in enumerate(configs):\n",
    "    dataset = DatasetFactory(\n",
    "        holdout,\n",
    "        # cfg.train.csv_path,\n",
    "        cfg)\n",
    "    val_loader = dataset.yield_loader(is_test=True)\n",
    "    net = cfg.model.architecture(pretrained=cfg.model.pretrained)\n",
    "\n",
    "    trainer = Segmentation(net,\n",
    "                           mode='test',\n",
    "                           criterion=cfg.loss,\n",
    "                           debug=False,\n",
    "                           fold=cfg.fold)\n",
    "\n",
    "    assert cfg.model.weights is not None, 'Weights is None!!'\n",
    "    trainer.load_model(cfg.model.weights)\n",
    "    _, _, pred, mask = trainer.predict(val_loader, cfg.test.TTA, raw=True, tgt_size=768, pbar=True)\n",
    "    if not j:\n",
    "        mean_pred = pred\n",
    "    else:\n",
    "        mean_pred = (j * mean_pred + pred) / (j + 1)\n",
    "    gc.collect()"
   ]
  },
  {
   "cell_type": "markdown",
   "metadata": {},
   "source": [
    "## Get masks"
   ]
  },
  {
   "cell_type": "code",
   "execution_count": null,
   "metadata": {},
   "outputs": [],
   "source": [
    "# ths = 0.2\n",
    "# ptx_ix = np.where(mask.reshape(mask.shape[0], -1).sum(1) > 0)[0]\n",
    "# mean_pred = mean_pred[ptx_ix]\n",
    "# mask = mask[ptx_ix]\n",
    "# print('{} ptx images'.format(len(ptx_ix)))"
   ]
  },
  {
   "cell_type": "code",
   "execution_count": 3,
   "metadata": {},
   "outputs": [],
   "source": [
    "def do_validation(prediction, ground_truth, ths=0.2, cls_ths=0.6, noise_th=75.0 * (384 / 128.0) ** 2, mix_noise=None):\n",
    "    pred = prediction.copy()\n",
    "    gt = ground_truth.copy()\n",
    "\n",
    "    if noise_th is not None:\n",
    "        pred[pred.reshape(pred.shape[0], -1).sum(-1) < noise_th, ...] = 0.0\n",
    "    pred_seg = (pred > ths)\n",
    "    if cls_ths is not None:\n",
    "        pred_cls = (pred > cls_ths)\n",
    "        pred_seg[pred_cls.reshape(pred.shape[0], -1).sum(1) == 0] = 0.0\n",
    "    if mix_noise is not None:    \n",
    "        filter_pred = pred * pred_seg\n",
    "        pred_seg[(filter_pred.reshape(filter_pred.shape[0], -1).sum(-1) / (pred_seg.reshape(pred_seg.shape[0], -1).sum(-1) + 1)) < mix_noise, ...] = 0.0\n",
    "        \n",
    "    print((pred_seg.sum(1).sum(1) > 0).mean())\n",
    "    dice, ptx_dice = metrics.cmp_dice(pred_seg, gt)\n",
    "    acc = metrics.cmp_cls_acc(pred_seg, gt).mean()\n",
    "    print('Dice: {:4f}\\tPtx_Dice: {:4f}\\tAcc: {:4f}'.format(dice.mean(), ptx_dice.mean(), acc))\n",
    "    return dice"
   ]
  },
  {
   "cell_type": "code",
   "execution_count": 11,
   "metadata": {},
   "outputs": [
    {
     "name": "stdout",
     "output_type": "stream",
     "text": [
      "0.23617619493908154\n",
      "Dice: 0.846011\tPtx_Dice: 0.527889\tAcc: 0.915651\n"
     ]
    },
    {
     "data": {
      "text/plain": [
       "array([1., 1., 1., ..., 1., 0., 1.])"
      ]
     },
     "execution_count": 11,
     "metadata": {},
     "output_type": "execute_result"
    }
   ],
   "source": [
    "do_validation(mean_pred, mask, 0.2, cls_ths=None, noise_th=500)"
   ]
  },
  {
   "cell_type": "code",
   "execution_count": 12,
   "metadata": {
    "scrolled": true
   },
   "outputs": [
    {
     "name": "stdout",
     "output_type": "stream",
     "text": [
      "0.22024367385192128\n",
      "Dice: 0.851952\tPtx_Dice: 0.516801\tAcc: 0.916589\n"
     ]
    },
    {
     "data": {
      "text/plain": [
       "array([1., 1., 1., ..., 1., 0., 1.])"
      ]
     },
     "execution_count": 12,
     "metadata": {},
     "output_type": "execute_result"
    }
   ],
   "source": [
    "do_validation(mean_pred, mask, 0.2, cls_ths=None, noise_th=750)"
   ]
  },
  {
   "cell_type": "code",
   "execution_count": 13,
   "metadata": {
    "scrolled": true
   },
   "outputs": [
    {
     "name": "stdout",
     "output_type": "stream",
     "text": [
      "0.2099343955014058\n",
      "Dice: 0.855791\tPtx_Dice: 0.508872\tAcc: 0.917526\n"
     ]
    },
    {
     "data": {
      "text/plain": [
       "array([1., 1., 1., ..., 1., 0., 1.])"
      ]
     },
     "execution_count": 13,
     "metadata": {},
     "output_type": "execute_result"
    }
   ],
   "source": [
    "do_validation(mean_pred, mask, 0.2, cls_ths=None, noise_th=900)"
   ]
  },
  {
   "cell_type": "code",
   "execution_count": 9,
   "metadata": {},
   "outputs": [
    {
     "name": "stdout",
     "output_type": "stream",
     "text": [
      "0.20337394564198688\n",
      "Dice: 0.857484\tPtx_Dice: 0.503896\tAcc: 0.916589\n"
     ]
    },
    {
     "data": {
      "text/plain": [
       "array([1., 1., 1., ..., 1., 0., 1.])"
      ]
     },
     "execution_count": 9,
     "metadata": {},
     "output_type": "execute_result"
    }
   ],
   "source": [
    "do_validation(mean_pred, mask, 0.2, cls_ths=None, noise_th=1000)"
   ]
  },
  {
   "cell_type": "code",
   "execution_count": 14,
   "metadata": {},
   "outputs": [
    {
     "name": "stdout",
     "output_type": "stream",
     "text": [
      "0.18837863167760074\n",
      "Dice: 0.857908\tPtx_Dice: 0.484948\tAcc: 0.910965\n"
     ]
    },
    {
     "data": {
      "text/plain": [
       "array([1., 1., 1., ..., 1., 0., 1.])"
      ]
     },
     "execution_count": 14,
     "metadata": {},
     "output_type": "execute_result"
    }
   ],
   "source": [
    "do_validation(mean_pred, mask, 0.2, cls_ths=None, noise_th=1250)"
   ]
  },
  {
   "cell_type": "code",
   "execution_count": 8,
   "metadata": {},
   "outputs": [
    {
     "name": "stdout",
     "output_type": "stream",
     "text": [
      "0.1780693533270853\n",
      "Dice: 0.856838\tPtx_Dice: 0.467693\tAcc: 0.906279\n"
     ]
    },
    {
     "data": {
      "text/plain": [
       "array([1., 1., 1., ..., 1., 0., 1.])"
      ]
     },
     "execution_count": 8,
     "metadata": {},
     "output_type": "execute_result"
    }
   ],
   "source": [
    "do_validation(mean_pred, mask, 0.2, cls_ths=None, noise_th=1500)"
   ]
  },
  {
   "cell_type": "code",
   "execution_count": 6,
   "metadata": {},
   "outputs": [
    {
     "name": "stdout",
     "output_type": "stream",
     "text": [
      "0.15932521087160262\n",
      "Dice: 0.855373\tPtx_Dice: 0.436177\tAcc: 0.898782\n"
     ]
    },
    {
     "data": {
      "text/plain": [
       "array([1., 1., 1., ..., 1., 0., 1.])"
      ]
     },
     "execution_count": 6,
     "metadata": {},
     "output_type": "execute_result"
    }
   ],
   "source": [
    "do_validation(mean_pred, mask, 0.2, cls_ths=None, noise_th=2000)"
   ]
  },
  {
   "cell_type": "code",
   "execution_count": 7,
   "metadata": {},
   "outputs": [
    {
     "name": "stdout",
     "output_type": "stream",
     "text": [
      "0.13964386129334583\n",
      "Dice: 0.854372\tPtx_Dice: 0.398396\tAcc: 0.894096\n"
     ]
    },
    {
     "data": {
      "text/plain": [
       "array([1., 1., 1., ..., 1., 0., 1.])"
      ]
     },
     "execution_count": 7,
     "metadata": {},
     "output_type": "execute_result"
    }
   ],
   "source": [
    "do_validation(mean_pred, mask, 0.2, cls_ths=None, noise_th=2500)"
   ]
  },
  {
   "cell_type": "code",
   "execution_count": null,
   "metadata": {},
   "outputs": [],
   "source": []
  },
  {
   "cell_type": "code",
   "execution_count": 22,
   "metadata": {},
   "outputs": [
    {
     "name": "stdout",
     "output_type": "stream",
     "text": [
      "0.21087160262417995\n",
      "Dice: 0.854859\tPtx_Dice: 0.513059\tAcc: 0.914714\n"
     ]
    },
    {
     "data": {
      "text/plain": [
       "array([1., 1., 1., ..., 1., 0., 1.])"
      ]
     },
     "execution_count": 22,
     "metadata": {},
     "output_type": "execute_result"
    }
   ],
   "source": [
    "do_validation(mean_pred, mask, 0.2, cls_ths=0.3, noise_th=None)"
   ]
  },
  {
   "cell_type": "code",
   "execution_count": 23,
   "metadata": {},
   "outputs": [
    {
     "name": "stdout",
     "output_type": "stream",
     "text": [
      "0.19681349578256796\n",
      "Dice: 0.859397\tPtx_Dice: 0.499901\tAcc: 0.915651\n"
     ]
    },
    {
     "data": {
      "text/plain": [
       "array([1., 1., 1., ..., 1., 0., 1.])"
      ]
     },
     "execution_count": 23,
     "metadata": {},
     "output_type": "execute_result"
    }
   ],
   "source": [
    "do_validation(mean_pred, mask, 0.2, cls_ths=0.35, noise_th=None)"
   ]
  },
  {
   "cell_type": "code",
   "execution_count": 16,
   "metadata": {},
   "outputs": [
    {
     "name": "stdout",
     "output_type": "stream",
     "text": [
      "0.1893158388003749\n",
      "Dice: 0.860697\tPtx_Dice: 0.489018\tAcc: 0.915651\n"
     ]
    },
    {
     "data": {
      "text/plain": [
       "array([1., 1., 1., ..., 1., 0., 1.])"
      ]
     },
     "execution_count": 16,
     "metadata": {},
     "output_type": "execute_result"
    }
   ],
   "source": [
    "do_validation(mean_pred, mask, 0.2, cls_ths=0.4, noise_th=None)"
   ]
  },
  {
   "cell_type": "code",
   "execution_count": 17,
   "metadata": {},
   "outputs": [
    {
     "name": "stdout",
     "output_type": "stream",
     "text": [
      "0.17994376757263356\n",
      "Dice: 0.859728\tPtx_Dice: 0.476373\tAcc: 0.910028\n"
     ]
    },
    {
     "data": {
      "text/plain": [
       "array([1., 1., 1., ..., 1., 0., 1.])"
      ]
     },
     "execution_count": 17,
     "metadata": {},
     "output_type": "execute_result"
    }
   ],
   "source": [
    "do_validation(mean_pred, mask, 0.2, cls_ths=0.45, noise_th=None)"
   ]
  },
  {
   "cell_type": "code",
   "execution_count": 18,
   "metadata": {},
   "outputs": [
    {
     "name": "stdout",
     "output_type": "stream",
     "text": [
      "0.1668228678537957\n",
      "Dice: 0.858604\tPtx_Dice: 0.454708\tAcc: 0.904405\n"
     ]
    },
    {
     "data": {
      "text/plain": [
       "array([1., 1., 1., ..., 1., 0., 1.])"
      ]
     },
     "execution_count": 18,
     "metadata": {},
     "output_type": "execute_result"
    }
   ],
   "source": [
    "do_validation(mean_pred, mask, 0.2, cls_ths=0.5, noise_th=None)"
   ]
  },
  {
   "cell_type": "code",
   "execution_count": 20,
   "metadata": {},
   "outputs": [
    {
     "name": "stdout",
     "output_type": "stream",
     "text": [
      "0.15463917525773196\n",
      "Dice: 0.856911\tPtx_Dice: 0.430517\tAcc: 0.899719\n"
     ]
    },
    {
     "data": {
      "text/plain": [
       "array([1., 1., 1., ..., 1., 0., 1.])"
      ]
     },
     "execution_count": 20,
     "metadata": {},
     "output_type": "execute_result"
    }
   ],
   "source": [
    "do_validation(mean_pred, mask, 0.2, cls_ths=0.55, noise_th=None)"
   ]
  },
  {
   "cell_type": "code",
   "execution_count": 21,
   "metadata": {},
   "outputs": [
    {
     "name": "stdout",
     "output_type": "stream",
     "text": [
      "0.14901593252108716\n",
      "Dice: 0.854874\tPtx_Dice: 0.417295\tAcc: 0.895970\n"
     ]
    },
    {
     "data": {
      "text/plain": [
       "array([1., 1., 1., ..., 1., 0., 1.])"
      ]
     },
     "execution_count": 21,
     "metadata": {},
     "output_type": "execute_result"
    }
   ],
   "source": [
    "do_validation(mean_pred, mask, 0.2, cls_ths=0.6, noise_th=None)"
   ]
  },
  {
   "cell_type": "code",
   "execution_count": null,
   "metadata": {},
   "outputs": [],
   "source": []
  },
  {
   "cell_type": "code",
   "execution_count": 24,
   "metadata": {},
   "outputs": [
    {
     "name": "stdout",
     "output_type": "stream",
     "text": [
      "0.2436738519212746\n",
      "Dice: 0.842145\tPtx_Dice: 0.531536\tAcc: 0.913777\n"
     ]
    },
    {
     "data": {
      "text/plain": [
       "array([1., 1., 1., ..., 1., 0., 1.])"
      ]
     },
     "execution_count": 24,
     "metadata": {},
     "output_type": "execute_result"
    }
   ],
   "source": [
    "do_validation(mean_pred, mask, 0.2, cls_ths=None, noise_th=None, mix_noise=0.1)"
   ]
  },
  {
   "cell_type": "code",
   "execution_count": 25,
   "metadata": {},
   "outputs": [
    {
     "name": "stdout",
     "output_type": "stream",
     "text": [
      "0.20524835988753515\n",
      "Dice: 0.855272\tPtx_Dice: 0.506565\tAcc: 0.912840\n"
     ]
    },
    {
     "data": {
      "text/plain": [
       "array([1., 1., 1., ..., 1., 0., 1.])"
      ]
     },
     "execution_count": 25,
     "metadata": {},
     "output_type": "execute_result"
    }
   ],
   "source": [
    "do_validation(mean_pred, mask, 0.2, cls_ths=None, noise_th=None, mix_noise=0.25)"
   ]
  },
  {
   "cell_type": "code",
   "execution_count": 26,
   "metadata": {},
   "outputs": [
    {
     "name": "stdout",
     "output_type": "stream",
     "text": [
      "0.18088097469540768\n",
      "Dice: 0.859170\tPtx_Dice: 0.478060\tAcc: 0.909091\n"
     ]
    },
    {
     "data": {
      "text/plain": [
       "array([1., 1., 1., ..., 1., 0., 1.])"
      ]
     },
     "execution_count": 26,
     "metadata": {},
     "output_type": "execute_result"
    }
   ],
   "source": [
    "do_validation(mean_pred, mask, 0.2, cls_ths=None, noise_th=None, mix_noise=0.30)"
   ]
  },
  {
   "cell_type": "code",
   "execution_count": 34,
   "metadata": {},
   "outputs": [
    {
     "name": "stdout",
     "output_type": "stream",
     "text": [
      "0.17057169634489222\n",
      "Dice: 0.860882\tPtx_Dice: 0.464839\tAcc: 0.908154\n"
     ]
    },
    {
     "data": {
      "text/plain": [
       "array([1., 1., 1., ..., 1., 0., 1.])"
      ]
     },
     "execution_count": 34,
     "metadata": {},
     "output_type": "execute_result"
    }
   ],
   "source": [
    "do_validation(mean_pred, mask, 0.2, cls_ths=None, noise_th=None, mix_noise=0.325)"
   ]
  },
  {
   "cell_type": "code",
   "execution_count": 27,
   "metadata": {},
   "outputs": [
    {
     "name": "stdout",
     "output_type": "stream",
     "text": [
      "0.15651358950328023\n",
      "Dice: 0.858576\tPtx_Dice: 0.437921\tAcc: 0.901593\n"
     ]
    },
    {
     "data": {
      "text/plain": [
       "array([1., 1., 1., ..., 1., 0., 1.])"
      ]
     },
     "execution_count": 27,
     "metadata": {},
     "output_type": "execute_result"
    }
   ],
   "source": [
    "do_validation(mean_pred, mask, 0.2, cls_ths=None, noise_th=None, mix_noise=0.35)"
   ]
  },
  {
   "cell_type": "code",
   "execution_count": 28,
   "metadata": {},
   "outputs": [
    {
     "name": "stdout",
     "output_type": "stream",
     "text": [
      "0.13495782567947517\n",
      "Dice: 0.854274\tPtx_Dice: 0.393791\tAcc: 0.891284\n"
     ]
    },
    {
     "data": {
      "text/plain": [
       "array([1., 1., 1., ..., 1., 0., 1.])"
      ]
     },
     "execution_count": 28,
     "metadata": {},
     "output_type": "execute_result"
    }
   ],
   "source": [
    "do_validation(mean_pred, mask, 0.2, cls_ths=None, noise_th=None, mix_noise=0.40)"
   ]
  },
  {
   "cell_type": "code",
   "execution_count": 29,
   "metadata": {},
   "outputs": [
    {
     "name": "stdout",
     "output_type": "stream",
     "text": [
      "0.11715089034676664\n",
      "Dice: 0.845534\tPtx_Dice: 0.346603\tAcc: 0.877226\n"
     ]
    },
    {
     "data": {
      "text/plain": [
       "array([1., 1., 1., ..., 1., 0., 1.])"
      ]
     },
     "execution_count": 29,
     "metadata": {},
     "output_type": "execute_result"
    }
   ],
   "source": [
    "do_validation(mean_pred, mask, 0.2, cls_ths=None, noise_th=None, mix_noise=0.45)"
   ]
  },
  {
   "cell_type": "code",
   "execution_count": 30,
   "metadata": {},
   "outputs": [
    {
     "name": "stdout",
     "output_type": "stream",
     "text": [
      "0.10871602624179943\n",
      "Dice: 0.842031\tPtx_Dice: 0.326862\tAcc: 0.870665\n"
     ]
    },
    {
     "data": {
      "text/plain": [
       "array([1., 1., 1., ..., 1., 0., 1.])"
      ]
     },
     "execution_count": 30,
     "metadata": {},
     "output_type": "execute_result"
    }
   ],
   "source": [
    "do_validation(mean_pred, mask, 0.2, cls_ths=None, noise_th=None, mix_noise=0.475)"
   ]
  },
  {
   "cell_type": "code",
   "execution_count": 31,
   "metadata": {},
   "outputs": [
    {
     "name": "stdout",
     "output_type": "stream",
     "text": [
      "0.09559512652296158\n",
      "Dice: 0.835267\tPtx_Dice: 0.292625\tAcc: 0.859419\n"
     ]
    },
    {
     "data": {
      "text/plain": [
       "array([1., 1., 1., ..., 1., 0., 1.])"
      ]
     },
     "execution_count": 31,
     "metadata": {},
     "output_type": "execute_result"
    }
   ],
   "source": [
    "do_validation(mean_pred, mask, 0.2, cls_ths=None, noise_th=None, mix_noise=0.5)"
   ]
  },
  {
   "cell_type": "code",
   "execution_count": 32,
   "metadata": {},
   "outputs": [
    {
     "name": "stdout",
     "output_type": "stream",
     "text": [
      "0.07403936269915651\n",
      "Dice: 0.826670\tPtx_Dice: 0.241903\tAcc: 0.843486\n"
     ]
    },
    {
     "data": {
      "text/plain": [
       "array([1., 1., 1., ..., 1., 0., 1.])"
      ]
     },
     "execution_count": 32,
     "metadata": {},
     "output_type": "execute_result"
    }
   ],
   "source": [
    "do_validation(mean_pred, mask, 0.2, cls_ths=None, noise_th=None, mix_noise=0.55)"
   ]
  },
  {
   "cell_type": "code",
   "execution_count": 33,
   "metadata": {},
   "outputs": [
    {
     "name": "stdout",
     "output_type": "stream",
     "text": [
      "0.053420805998125584\n",
      "Dice: 0.812740\tPtx_Dice: 0.179974\tAcc: 0.822868\n"
     ]
    },
    {
     "data": {
      "text/plain": [
       "array([1., 1., 1., ..., 1., 0., 1.])"
      ]
     },
     "execution_count": 33,
     "metadata": {},
     "output_type": "execute_result"
    }
   ],
   "source": [
    "do_validation(mean_pred, mask, 0.2, cls_ths=None, noise_th=None, mix_noise=0.6)"
   ]
  },
  {
   "cell_type": "code",
   "execution_count": null,
   "metadata": {},
   "outputs": [],
   "source": []
  },
  {
   "cell_type": "code",
   "execution_count": null,
   "metadata": {},
   "outputs": [],
   "source": [
    "do_validation(mean_pred, mask_vec, 0.25, cls_ths=None, noise_th=None, mix_noise=0.75)"
   ]
  },
  {
   "cell_type": "code",
   "execution_count": null,
   "metadata": {},
   "outputs": [],
   "source": []
  },
  {
   "cell_type": "code",
   "execution_count": null,
   "metadata": {},
   "outputs": [],
   "source": [
    "do_validation(mean_pred, mask_vec, 0.2, cls_ths=None, noise_th=None, mix_noise=0.55)"
   ]
  },
  {
   "cell_type": "code",
   "execution_count": null,
   "metadata": {},
   "outputs": [],
   "source": []
  },
  {
   "cell_type": "code",
   "execution_count": null,
   "metadata": {},
   "outputs": [],
   "source": [
    "def split_instances(pred, bin_ths=0.25, connectivity=2, min_size=10, out_value=1):\n",
    "    mask = pred.copy()\n",
    "    B, H, W = mask.shape\n",
    "    bin_mask = (mask > bin_ths).astype(np.int)\n",
    "    out = []\n",
    "    for i in range(B):\n",
    "        pred_i, num = label(bin_mask[i], connectivity=connectivity, return_num=True)\n",
    "        pred_i_split = []\n",
    "        # Remove small labels\n",
    "        for j in range(1, num + 1):\n",
    "            color_j = (pred_i == j)\n",
    "            area_j = mask[i, color_j].sum() / color_j.sum()\n",
    "            if area_j > min_size:\n",
    "                pred_i_split.append(color_j)\n",
    "        out.append(np.max(pred_i_split, axis=0) if len(pred_i_split) > 0 else np.zeros((H, W)))\n",
    "    return np.stack(out)"
   ]
  },
  {
   "cell_type": "code",
   "execution_count": null,
   "metadata": {
    "scrolled": false
   },
   "outputs": [],
   "source": [
    "fig, axs = plt.subplots(len(ptx_ix) // 2, 2, figsize=(16 , 4 * len(ptx_ix) // 2))\n",
    "for i in range(len(ptx_ix) // 2):\n",
    "    axs[i, 0].imshow(mean_pred[i].astype(np.float32), cmap=plt.cm.bone)\n",
    "#     axs[i, 1].imshow(mean_pred[i] > ths)\n",
    "    axs[i, 1].imshow(split_instances(mean_pred[i:i+1], min_size=0.4)[0])\n",
    "    axs[i, 1].imshow(mask[i].astype(np.float32), alpha=0.4, cmap=\"Reds\")\n",
    "    \n",
    "plt.show()"
   ]
  }
 ],
 "metadata": {
  "kernelspec": {
   "display_name": "Python 3",
   "language": "python",
   "name": "python3"
  },
  "language_info": {
   "codemirror_mode": {
    "name": "ipython",
    "version": 3
   },
   "file_extension": ".py",
   "mimetype": "text/x-python",
   "name": "python",
   "nbconvert_exporter": "python",
   "pygments_lexer": "ipython3",
   "version": "3.7.3"
  }
 },
 "nbformat": 4,
 "nbformat_minor": 2
}
